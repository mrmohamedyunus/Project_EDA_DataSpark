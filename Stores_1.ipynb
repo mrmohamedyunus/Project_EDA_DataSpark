{
 "cells": [
  {
   "cell_type": "code",
   "execution_count": 1,
   "id": "9706f621-8874-42b1-8464-8fe4ea3fbaf1",
   "metadata": {},
   "outputs": [],
   "source": [
    "import pandas as pd\n",
    "import mysql.connector\n",
    "import re\n",
    "conn = mysql.connector.connect(username= \"root\",\n",
    "                               host = \"127.0.0.1\",\n",
    "                               password = \"Admin@Yunus111\",\n",
    "                               database = \"project_2\")\n",
    "\n",
    "cursor = conn.cursor()"
   ]
  },
  {
   "cell_type": "code",
   "execution_count": 2,
   "id": "8e0d6054-e505-4117-98d9-293d1c4788b5",
   "metadata": {},
   "outputs": [
    {
     "name": "stdout",
     "output_type": "stream",
     "text": [
      "   StoreKey    Country                         State  Square Meters  Open Date\n",
      "0         1  Australia  Australian Capital Territory          595.0   1/1/2008\n",
      "1         2  Australia            Northern Territory          665.0  1/12/2008\n",
      "2         3  Australia               South Australia         2000.0   1/7/2012\n",
      "3         4  Australia                      Tasmania         2000.0   1/1/2010\n",
      "4         5  Australia                      Victoria         2000.0  12/9/2015\n",
      "<class 'pandas.core.frame.DataFrame'>\n",
      "RangeIndex: 67 entries, 0 to 66\n",
      "Data columns (total 5 columns):\n",
      " #   Column         Non-Null Count  Dtype  \n",
      "---  ------         --------------  -----  \n",
      " 0   StoreKey       67 non-null     int64  \n",
      " 1   Country        67 non-null     object \n",
      " 2   State          67 non-null     object \n",
      " 3   Square Meters  66 non-null     float64\n",
      " 4   Open Date      67 non-null     object \n",
      "dtypes: float64(1), int64(1), object(3)\n",
      "memory usage: 2.7+ KB\n",
      "None\n"
     ]
    }
   ],
   "source": [
    "df_stores = pd.read_csv(r'C:\\Users\\HP\\OneDrive\\Desktop\\dataset\\Stores.csv')\n",
    "\n",
    "print(df_stores.head())\n",
    "\n",
    "print(df_stores.info())\n",
    "\n",
    "df_stores.columns = df_stores.columns.str.lower()\n",
    "df_stores.columns = df_stores.columns.str.replace(\" \",\"_\")\n",
    "\n",
    "df_stores['open_date'] = pd.to_datetime(df_stores['open_date'])\n",
    "\n",
    "df_stores['square_meters'] = df_stores['square_meters'].fillna(0.0)"
   ]
  },
  {
   "cell_type": "code",
   "execution_count": 3,
   "id": "45dc44b4-4ffb-4e39-9416-b56f2f2466ec",
   "metadata": {},
   "outputs": [],
   "source": [
    "# insert_stores_values = '''\n",
    "#     INSERT INTO stores (storekey, \n",
    "#                         country, \n",
    "#                         state, \n",
    "#                         square_meters, \n",
    "#                         open_date)\n",
    "#     VALUES (%s, %s, %s, %s, %s)\n",
    "#    '''\n",
    "insert_stores_values = '''\n",
    "    INSERT INTO stores (storekey, country, state, square_meters, open_date)\n",
    "    VALUES (%s, %s, %s, %s, %s)\n",
    "    ON DUPLICATE KEY UPDATE\n",
    "    country=VALUES(country),\n",
    "    state=VALUES(state),\n",
    "    square_meters=VALUES(square_meters),\n",
    "    open_date=VALUES(open_date)\n",
    "'''\n",
    "\n",
    "\n",
    "for index, row in df_stores.iterrows():\n",
    "    cursor.execute(insert_stores_values, (\n",
    "        row['storekey'],\n",
    "        row['country'],\n",
    "        row['state'],\n",
    "        row['square_meters'],\n",
    "        row['open_date']\n",
    "))\n",
    "conn.commit()  "
   ]
  },
  {
   "cell_type": "code",
   "execution_count": null,
   "id": "7eb6a8b9-4aa6-497c-a943-824af378f2bd",
   "metadata": {},
   "outputs": [],
   "source": []
  }
 ],
 "metadata": {
  "kernelspec": {
   "display_name": "Python 3 (ipykernel)",
   "language": "python",
   "name": "python3"
  },
  "language_info": {
   "codemirror_mode": {
    "name": "ipython",
    "version": 3
   },
   "file_extension": ".py",
   "mimetype": "text/x-python",
   "name": "python",
   "nbconvert_exporter": "python",
   "pygments_lexer": "ipython3",
   "version": "3.12.2"
  }
 },
 "nbformat": 4,
 "nbformat_minor": 5
}
