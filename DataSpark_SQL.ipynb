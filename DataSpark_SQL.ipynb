{
 "cells": [
  {
   "cell_type": "code",
   "execution_count": 2,
   "metadata": {},
   "outputs": [],
   "source": [
    "import mysql.connector\n",
    "import pandas as pd\n",
    "\n",
    "# Connect to the MySQL database\n",
    "con = mysql.connector.connect(\n",
    "    host=\"127.0.0.1\",\n",
    "    user=\"root\",\n",
    "    password=\"Admin@Yunus111\",\n",
    "    database=\"dataspark\"\n",
    ")\n",
    "\n",
    "# Create a cursor object\n",
    "cursor = con.cursor()\n",
    "\n",
    "# Define a function to execute queries and return results as a DataFrame\n",
    "def execute_query(query):\n",
    "    df = pd.read_sql(query, con)\n",
    "    return df"
   ]
  },
  {
   "cell_type": "code",
   "execution_count": 3,
   "metadata": {},
   "outputs": [
    {
     "name": "stdout",
     "output_type": "stream",
     "text": [
      "Gender Distribution:\n",
      "    gender  customer_count\n",
      "0  Female            7518\n",
      "1    Male            7748\n"
     ]
    },
    {
     "name": "stderr",
     "output_type": "stream",
     "text": [
      "C:\\Users\\HP\\AppData\\Local\\Temp\\ipykernel_22700\\3056860126.py:17: UserWarning: pandas only supports SQLAlchemy connectable (engine/connection) or database string URI or sqlite3 DBAPI2 connection. Other DBAPI2 objects are not tested. Please consider using SQLAlchemy.\n",
      "  df = pd.read_sql(query, con)\n"
     ]
    }
   ],
   "source": [
    "gender_distribution_query = \"\"\"\n",
    "SELECT \n",
    "    gender, \n",
    "    COUNT(*) AS customer_count\n",
    "FROM \n",
    "    customers\n",
    "GROUP BY \n",
    "    gender;\n",
    "\"\"\"\n",
    "gender_distribution_df = execute_query(gender_distribution_query)\n",
    "print(\"Gender Distribution:\\n\", gender_distribution_df)"
   ]
  },
  {
   "cell_type": "code",
   "execution_count": 4,
   "metadata": {},
   "outputs": [
    {
     "name": "stdout",
     "output_type": "stream",
     "text": [
      "\n",
      "Age Distribution:\n",
      "     age  customer_count\n",
      "0    22             106\n",
      "1    23             264\n",
      "2    24             238\n",
      "3    25             240\n",
      "4    26             210\n",
      "..  ...             ...\n",
      "63   85             217\n",
      "64   86             212\n",
      "65   87             249\n",
      "66   88             216\n",
      "67   89             113\n",
      "\n",
      "[68 rows x 2 columns]\n"
     ]
    },
    {
     "name": "stderr",
     "output_type": "stream",
     "text": [
      "C:\\Users\\HP\\AppData\\Local\\Temp\\ipykernel_22700\\3056860126.py:17: UserWarning: pandas only supports SQLAlchemy connectable (engine/connection) or database string URI or sqlite3 DBAPI2 connection. Other DBAPI2 objects are not tested. Please consider using SQLAlchemy.\n",
      "  df = pd.read_sql(query, con)\n"
     ]
    }
   ],
   "source": [
    "age_distribution_query = \"\"\"\n",
    "SELECT \n",
    "    FLOOR((YEAR(CURDATE()) - YEAR(STR_TO_DATE(birthday, '%Y-%m-%d'))) - (RIGHT(CURDATE(), 5) < RIGHT(STR_TO_DATE(birthday, '%Y-%m-%d'), 5))) AS age,\n",
    "    COUNT(*) AS customer_count\n",
    "FROM \n",
    "    customers\n",
    "GROUP BY \n",
    "    age\n",
    "ORDER BY \n",
    "    age;\n",
    "\"\"\"\n",
    "age_distribution_df = execute_query(age_distribution_query)\n",
    "print(\"\\nAge Distribution:\\n\", age_distribution_df)"
   ]
  },
  {
   "cell_type": "code",
   "execution_count": 5,
   "metadata": {},
   "outputs": [
    {
     "name": "stdout",
     "output_type": "stream",
     "text": [
      "\n",
      "Customer Segmentation:\n",
      "           segment  customer_count\n",
      "0      middle age           28021\n",
      "1  senior citizen           32204\n",
      "2     young adult            2659\n"
     ]
    },
    {
     "name": "stderr",
     "output_type": "stream",
     "text": [
      "C:\\Users\\HP\\AppData\\Local\\Temp\\ipykernel_22700\\3056860126.py:17: UserWarning: pandas only supports SQLAlchemy connectable (engine/connection) or database string URI or sqlite3 DBAPI2 connection. Other DBAPI2 objects are not tested. Please consider using SQLAlchemy.\n",
      "  df = pd.read_sql(query, con)\n"
     ]
    }
   ],
   "source": [
    "customer_segmentation_query = \"\"\"\n",
    "SELECT \n",
    "    segment, \n",
    "    COUNT(*) AS customer_count\n",
    "FROM \n",
    "    merged_data\n",
    "GROUP BY \n",
    "    segment;\n",
    "\"\"\"\n",
    "customer_segmentation_df = execute_query(customer_segmentation_query)\n",
    "print(\"\\nCustomer Segmentation:\\n\", customer_segmentation_df)"
   ]
  },
  {
   "cell_type": "code",
   "execution_count": 6,
   "metadata": {},
   "outputs": [
    {
     "name": "stdout",
     "output_type": "stream",
     "text": [
      "\n",
      "Overall Sales Performance:\n",
      "       order_date  total_sales\n",
      "0     2016-01-01     37442.42\n",
      "1     2016-01-02     91366.94\n",
      "2     2016-01-03       362.64\n",
      "3     2016-01-04      9524.94\n",
      "4     2016-01-05     22996.38\n",
      "...          ...          ...\n",
      "1636  2021-02-16     27700.99\n",
      "1637  2021-02-17     77408.70\n",
      "1638  2021-02-18     35307.64\n",
      "1639  2021-02-19     36476.44\n",
      "1640  2021-02-20     61697.45\n",
      "\n",
      "[1641 rows x 2 columns]\n"
     ]
    },
    {
     "name": "stderr",
     "output_type": "stream",
     "text": [
      "C:\\Users\\HP\\AppData\\Local\\Temp\\ipykernel_22700\\3056860126.py:17: UserWarning: pandas only supports SQLAlchemy connectable (engine/connection) or database string URI or sqlite3 DBAPI2 connection. Other DBAPI2 objects are not tested. Please consider using SQLAlchemy.\n",
      "  df = pd.read_sql(query, con)\n"
     ]
    }
   ],
   "source": [
    "overall_sales_query = \"\"\"\n",
    "SELECT \n",
    "    DATE(OrderDate) AS order_date,\n",
    "    SUM(Quantity * unitpriceusd) AS total_sales\n",
    "FROM \n",
    "    merged_data\n",
    "GROUP BY \n",
    "    order_date\n",
    "ORDER BY \n",
    "    order_date;\n",
    "\"\"\"\n",
    "overall_sales_df = execute_query(overall_sales_query)\n",
    "print(\"\\nOverall Sales Performance:\\n\", overall_sales_df)"
   ]
  },
  {
   "cell_type": "code",
   "execution_count": 7,
   "metadata": {},
   "outputs": [
    {
     "name": "stderr",
     "output_type": "stream",
     "text": [
      "C:\\Users\\HP\\AppData\\Local\\Temp\\ipykernel_22700\\3056860126.py:17: UserWarning: pandas only supports SQLAlchemy connectable (engine/connection) or database string URI or sqlite3 DBAPI2 connection. Other DBAPI2 objects are not tested. Please consider using SQLAlchemy.\n",
      "  df = pd.read_sql(query, con)\n"
     ]
    },
    {
     "name": "stdout",
     "output_type": "stream",
     "text": [
      "\n",
      "Sales by Product:\n",
      "                                             productname  total_quantity  \\\n",
      "0                        WWI Desktop PC2.33 X2330 Black           550.0   \n",
      "1           Adventure Works Desktop PC2.33 XD233 Silver           481.0   \n",
      "2            Adventure Works Desktop PC2.33 XD233 Brown           479.0   \n",
      "3            Adventure Works Desktop PC2.33 XD233 Black           462.0   \n",
      "4            Adventure Works Desktop PC2.33 XD233 White           451.0   \n",
      "...                                                 ...             ...   \n",
      "2487                        SV USB Data Cable E600 Pink            27.0   \n",
      "2488                        SV USB Data Cable E600 Grey            23.0   \n",
      "2489  Litware 80mm Dual Ball Bearing Case Fan E1001 ...             4.0   \n",
      "2490               SV USB Sync Charge Cable E700 Silver             8.0   \n",
      "2491                      SV USB Data Cable E600 Silver            16.0   \n",
      "\n",
      "      total_sales  \n",
      "0       505450.00  \n",
      "1       466089.00  \n",
      "2       464151.00  \n",
      "3       447678.00  \n",
      "4       437019.00  \n",
      "...           ...  \n",
      "2487        25.65  \n",
      "2488        21.85  \n",
      "2489        19.96  \n",
      "2490        15.92  \n",
      "2491        15.20  \n",
      "\n",
      "[2492 rows x 3 columns]\n"
     ]
    }
   ],
   "source": [
    "sales_by_product_query = \"\"\"\n",
    "SELECT \n",
    "    p.productname, \n",
    "    SUM(m.Quantity) AS total_quantity,\n",
    "    SUM(m.Quantity * p.unitpriceusd) AS total_sales  \n",
    "FROM \n",
    "    merged_data m\n",
    "JOIN \n",
    "    products p ON m.productkey = p.productkey  \n",
    "GROUP BY \n",
    "    p.productname\n",
    "ORDER BY \n",
    "    total_sales DESC;\n",
    "\"\"\"\n",
    "sales_by_product_df = execute_query(sales_by_product_query)\n",
    "print(\"\\nSales by Product:\\n\", sales_by_product_df)"
   ]
  },
  {
   "cell_type": "code",
   "execution_count": 8,
   "metadata": {},
   "outputs": [
    {
     "name": "stderr",
     "output_type": "stream",
     "text": [
      "C:\\Users\\HP\\AppData\\Local\\Temp\\ipykernel_22700\\3056860126.py:17: UserWarning: pandas only supports SQLAlchemy connectable (engine/connection) or database string URI or sqlite3 DBAPI2 connection. Other DBAPI2 objects are not tested. Please consider using SQLAlchemy.\n",
      "  df = pd.read_sql(query, con)\n"
     ]
    },
    {
     "name": "stdout",
     "output_type": "stream",
     "text": [
      "\n",
      "Sales by Store:\n",
      "     storekey  total_sales\n",
      "0          0  11404324.63\n",
      "1         55   1417885.41\n",
      "2         50   1394738.06\n",
      "3         54   1384396.24\n",
      "4          9   1336150.06\n",
      "5         57   1325611.89\n",
      "6         45   1318787.92\n",
      "7         61   1305684.43\n",
      "8         59   1302272.44\n",
      "9         64   1259350.98\n",
      "10        43   1250255.14\n",
      "11         8   1232225.93\n",
      "12        65   1225040.38\n",
      "13        66   1220964.38\n",
      "14        44   1216857.73\n",
      "15        56   1207253.73\n",
      "16        53   1193921.14\n",
      "17        47   1130742.94\n",
      "18        51   1130592.31\n",
      "19        48   1058268.50\n",
      "20        10   1043185.80\n",
      "21        38    995313.11\n",
      "22        30    958120.97\n",
      "23        49    935568.55\n",
      "24        29    913856.35\n",
      "25        40    911596.25\n",
      "26        39    894119.16\n",
      "27        42    886025.78\n",
      "28         5    859678.19\n",
      "29        37    841994.26\n",
      "30        36    837667.19\n",
      "31        63    819931.04\n",
      "32        24    673559.95\n",
      "33        62    666302.65\n",
      "34        27    657476.14\n",
      "35        22    652984.86\n",
      "36        23    615040.59\n",
      "37        19    576574.93\n",
      "38         6    538781.94\n",
      "39         4    442475.02\n",
      "40        34    434760.24\n",
      "41        33    416858.99\n",
      "42        21    402274.12\n",
      "43        20    388594.07\n",
      "44        41    383054.03\n",
      "45        32    382595.10\n",
      "46        31    357130.15\n",
      "47        26    279774.56\n",
      "48         1    243029.93\n",
      "49        18    226078.88\n",
      "50        15    205119.67\n",
      "51        16    199009.69\n",
      "52        28    187109.49\n",
      "53        12    183091.04\n",
      "54        17    159607.50\n",
      "55        13    150925.12\n",
      "56        14    105714.05\n",
      "57         2     15175.99\n"
     ]
    }
   ],
   "source": [
    "\n",
    "sales_by_store_query = \"\"\"\n",
    "SELECT \n",
    "    s.storekey, \n",
    "    SUM(m.Quantity * p.unitpriceusd) AS total_sales\n",
    "FROM \n",
    "    merged_data m\n",
    "JOIN \n",
    "    stores s ON m.storekey = s.storekey\n",
    "JOIN \n",
    "    products p ON m.productkey = p.productkey\n",
    "GROUP BY \n",
    "    s.storekey\n",
    "ORDER BY \n",
    "    total_sales DESC;\n",
    "\"\"\"\n",
    "sales_by_store_df = execute_query(sales_by_store_query)\n",
    "print(\"\\nSales by Store:\\n\", sales_by_store_df)"
   ]
  },
  {
   "cell_type": "code",
   "execution_count": 9,
   "metadata": {},
   "outputs": [
    {
     "name": "stderr",
     "output_type": "stream",
     "text": [
      "C:\\Users\\HP\\AppData\\Local\\Temp\\ipykernel_22700\\3056860126.py:17: UserWarning: pandas only supports SQLAlchemy connectable (engine/connection) or database string URI or sqlite3 DBAPI2 connection. Other DBAPI2 objects are not tested. Please consider using SQLAlchemy.\n",
      "  df = pd.read_sql(query, con)\n"
     ]
    },
    {
     "name": "stdout",
     "output_type": "stream",
     "text": [
      "\n",
      "Sales by Currency:\n",
      "   CurrencyCode   total_sales\n",
      "0          USD  2.987163e+07\n",
      "1          EUR  1.136729e+07\n",
      "2          GBP  7.084088e+06\n",
      "3          CAD  4.724335e+06\n",
      "4          AUD  2.708138e+06\n"
     ]
    }
   ],
   "source": [
    "sales_by_currency_query = \"\"\"\n",
    "SELECT \n",
    "    m.CurrencyCode, \n",
    "    SUM(m.Quantity * p.unitpriceusd) AS total_sales\n",
    "FROM \n",
    "    merged_data m\n",
    "JOIN \n",
    "    products p ON m.productkey = p.productkey\n",
    "GROUP BY \n",
    "    m.CurrencyCode\n",
    "ORDER BY \n",
    "    total_sales DESC;\n",
    "\"\"\"\n",
    "sales_by_currency_df = execute_query(sales_by_currency_query)\n",
    "print(\"\\nSales by Currency:\\n\", sales_by_currency_df)"
   ]
  },
  {
   "cell_type": "code",
   "execution_count": 10,
   "metadata": {},
   "outputs": [
    {
     "name": "stderr",
     "output_type": "stream",
     "text": [
      "C:\\Users\\HP\\AppData\\Local\\Temp\\ipykernel_22700\\3056860126.py:17: UserWarning: pandas only supports SQLAlchemy connectable (engine/connection) or database string URI or sqlite3 DBAPI2 connection. Other DBAPI2 objects are not tested. Please consider using SQLAlchemy.\n",
      "  df = pd.read_sql(query, con)\n"
     ]
    },
    {
     "name": "stdout",
     "output_type": "stream",
     "text": [
      "\n",
      "Product Popularity:\n",
      "                                             productname  total_quantity\n",
      "0                        WWI Desktop PC2.33 X2330 Black           550.0\n",
      "1                        WWI Desktop PC1.80 E1800 White           538.0\n",
      "2            Adventure Works Desktop PC1.60 ED160 Black           521.0\n",
      "3            Adventure Works Desktop PC2.30 MD230 White           521.0\n",
      "4            Adventure Works Desktop PC1.80 ED180 Black           520.0\n",
      "...                                                 ...             ...\n",
      "2487                    Proseware Floor Lamp X0115 Blue             1.0\n",
      "2488            Adventure Works Chandelier M8150 Silver             1.0\n",
      "2489             Adventure Works Chandelier M8150 Black             1.0\n",
      "2490                   Proseware Chandelier M0815 Black             1.0\n",
      "2491  Litware 16\" White Oscillating Stand Fan E701 W...             1.0\n",
      "\n",
      "[2492 rows x 2 columns]\n"
     ]
    }
   ],
   "source": [
    "product_popularity_query = \"\"\"\n",
    "SELECT \n",
    "    p.productname, \n",
    "    SUM(m.Quantity) AS total_quantity\n",
    "FROM \n",
    "    merged_data m\n",
    "JOIN \n",
    "    products p ON m.productkey = p.productkey\n",
    "GROUP BY \n",
    "    p.productname\n",
    "ORDER BY \n",
    "    total_quantity DESC;\n",
    "\"\"\"\n",
    "product_popularity_df = execute_query(product_popularity_query)\n",
    "print(\"\\nProduct Popularity:\\n\", product_popularity_df)"
   ]
  },
  {
   "cell_type": "code",
   "execution_count": 11,
   "metadata": {},
   "outputs": [
    {
     "name": "stderr",
     "output_type": "stream",
     "text": [
      "C:\\Users\\HP\\AppData\\Local\\Temp\\ipykernel_22700\\3056860126.py:17: UserWarning: pandas only supports SQLAlchemy connectable (engine/connection) or database string URI or sqlite3 DBAPI2 connection. Other DBAPI2 objects are not tested. Please consider using SQLAlchemy.\n",
      "  df = pd.read_sql(query, con)\n"
     ]
    },
    {
     "name": "stdout",
     "output_type": "stream",
     "text": [
      "\n",
      "Profitability Analysis:\n",
      "                                             productname  total_revenue  \\\n",
      "0                        WWI Desktop PC2.33 X2330 Black      505450.00   \n",
      "1           Adventure Works Desktop PC2.33 XD233 Silver      466089.00   \n",
      "2            Adventure Works Desktop PC2.33 XD233 Brown      464151.00   \n",
      "3            Adventure Works Desktop PC2.33 XD233 Black      447678.00   \n",
      "4            Adventure Works Desktop PC2.33 XD233 White      437019.00   \n",
      "...                                                 ...            ...   \n",
      "2487                        SV USB Data Cable E600 Pink          25.65   \n",
      "2488                        SV USB Data Cable E600 Grey          21.85   \n",
      "2489  Litware 80mm Dual Ball Bearing Case Fan E1001 ...          19.96   \n",
      "2490               SV USB Sync Charge Cable E700 Silver          15.92   \n",
      "2491                      SV USB Data Cable E600 Silver          15.20   \n",
      "\n",
      "      total_cost     profit  \n",
      "0      167464.00  337986.00  \n",
      "1      154425.05  311663.95  \n",
      "2      153782.95  310368.05  \n",
      "3      148325.10  299352.90  \n",
      "4      144793.55  292225.45  \n",
      "...          ...        ...  \n",
      "2487       12.96      12.69  \n",
      "2488       11.04      10.81  \n",
      "2489       10.16       9.80  \n",
      "2490        8.08       7.84  \n",
      "2491        7.68       7.52  \n",
      "\n",
      "[2492 rows x 4 columns]\n"
     ]
    }
   ],
   "source": [
    "profitability_analysis_query = \"\"\"\n",
    "SELECT \n",
    "    p.productname, \n",
    "    SUM(m.Quantity * m.unitpriceusd) AS total_revenue, \n",
    "    SUM(m.Quantity * p.unitcostusd) AS total_cost, \n",
    "    SUM(m.Quantity * m.unitpriceusd) - SUM(m.Quantity * p.unitcostusd) AS profit\n",
    "FROM \n",
    "    merged_data m\n",
    "JOIN \n",
    "    products p ON m.productkey = p.productkey\n",
    "GROUP BY \n",
    "    p.productname\n",
    "ORDER BY \n",
    "    profit DESC;\n",
    "\"\"\"\n",
    "profitability_analysis_df = execute_query(profitability_analysis_query)\n",
    "print(\"\\nProfitability Analysis:\\n\", profitability_analysis_df)"
   ]
  },
  {
   "cell_type": "code",
   "execution_count": 12,
   "metadata": {},
   "outputs": [
    {
     "name": "stderr",
     "output_type": "stream",
     "text": [
      "C:\\Users\\HP\\AppData\\Local\\Temp\\ipykernel_22700\\3056860126.py:17: UserWarning: pandas only supports SQLAlchemy connectable (engine/connection) or database string URI or sqlite3 DBAPI2 connection. Other DBAPI2 objects are not tested. Please consider using SQLAlchemy.\n",
      "  df = pd.read_sql(query, con)\n"
     ]
    },
    {
     "name": "stdout",
     "output_type": "stream",
     "text": [
      "\n",
      "Store Performance:\n",
      "     storekey  square_meters   open_date  total_sales\n",
      "0          0              0  2010-01-01  11404324.63\n",
      "1         55           2000  2009-12-15   1417885.41\n",
      "2         50           2000  2008-03-06   1394738.06\n",
      "3         54           2000  2013-06-07   1384396.24\n",
      "4          9           1500  2005-03-04   1336150.06\n",
      "5         57           1645  2010-06-03   1325611.89\n",
      "6         45           2000  2007-07-08   1318787.92\n",
      "7         61           2000  2012-12-15   1305684.43\n",
      "8         59           2000  2012-08-08   1302272.44\n",
      "9         64           1330  2010-01-01   1259350.98\n",
      "10        43           1190  2015-01-01   1250255.14\n",
      "11         8           2105  2014-07-02   1232225.93\n",
      "12        65           1785  2012-01-01   1225040.38\n",
      "13        66            840  2014-01-01   1220964.38\n",
      "14        44           2000  2010-06-03   1216857.73\n",
      "15        56           1260  2015-01-01   1207253.73\n",
      "16        53           1260  2012-06-06   1193921.14\n",
      "17        47           1120  2015-04-04   1130742.94\n",
      "18        51           1295  2010-01-01   1130592.31\n",
      "19        48           1540  2012-12-15   1058268.50\n",
      "20        10           1210  2015-04-04   1043185.80\n",
      "21        38           1800  2015-04-04    995313.11\n",
      "22        30           2100  2008-01-12    958120.97\n",
      "23        49           2000  2018-06-03    935568.55\n",
      "24        29           1000  2008-01-01    913856.35\n",
      "25        40           1300  2012-06-06    911596.25\n",
      "26        39           2100  2009-06-03    894119.16\n",
      "27        42           1900  2009-12-15    886025.78\n",
      "28         5           2000  2015-12-09    859678.19\n",
      "29        37           2100  2005-03-04    841994.26\n",
      "30        36           1300  2014-07-02    837667.19\n",
      "31        63           2000  2008-03-06    819931.04\n",
      "32        24           1855  2012-12-15    673559.95\n",
      "33        62           1120  2018-06-03    666302.65\n",
      "34        27           2000  2008-08-08    657476.14\n",
      "35        22           2000  2008-03-06    652984.86\n",
      "36        23           1365  2010-01-01    615040.59\n",
      "37        19           1295  2015-04-04    576574.93\n",
      "38         6           2000  2010-01-01    538781.94\n",
      "39         4           2000  2010-01-01    442475.02\n",
      "40        34           1365  2010-01-01    434760.24\n",
      "41        33           1540  2015-12-09    416858.99\n",
      "42        21            560  2018-06-03    402274.12\n",
      "43        20           1715  2012-12-15    388594.07\n",
      "44        41           2100  2013-06-07    383054.03\n",
      "45        32            910  2010-01-01    382595.10\n",
      "46        31           1085  2012-01-07    357130.15\n",
      "47        26            350  2019-03-05    279774.56\n",
      "48         1            595  2008-01-01    243029.93\n",
      "49        18            310  2012-08-08    226078.88\n",
      "50        15            400  2015-01-01    205119.67\n",
      "51        16            385  2010-06-03    199009.69\n",
      "52        28           1200  2012-12-15    187109.49\n",
      "53        12            350  2012-06-06    183091.04\n",
      "54        17            350  2007-07-08    159607.50\n",
      "55        13            245  2013-06-07    150925.12\n",
      "56        14            350  2009-12-15    105714.05\n",
      "57         2            665  2008-01-12     15175.99\n"
     ]
    }
   ],
   "source": [
    "store_performance_query = \"\"\"\n",
    "SELECT \n",
    "    s.storekey, \n",
    "    s.square_meters, \n",
    "    s.open_date, \n",
    "    SUM(m.Quantity * p.unitpriceusd) AS total_sales\n",
    "FROM \n",
    "    merged_data m\n",
    "JOIN \n",
    "    products p ON m.productkey = p.productkey\n",
    "JOIN \n",
    "    stores s ON m.storekey = s.storekey\n",
    "GROUP BY \n",
    "    s.storekey\n",
    "ORDER BY \n",
    "    total_sales DESC;\n",
    "\"\"\"\n",
    "store_performance_df = execute_query(store_performance_query)\n",
    "print(\"\\nStore Performance:\\n\", store_performance_df)"
   ]
  },
  {
   "cell_type": "code",
   "execution_count": 13,
   "metadata": {},
   "outputs": [
    {
     "name": "stderr",
     "output_type": "stream",
     "text": [
      "C:\\Users\\HP\\AppData\\Local\\Temp\\ipykernel_22700\\3056860126.py:17: UserWarning: pandas only supports SQLAlchemy connectable (engine/connection) or database string URI or sqlite3 DBAPI2 connection. Other DBAPI2 objects are not tested. Please consider using SQLAlchemy.\n",
      "  df = pd.read_sql(query, con)\n"
     ]
    },
    {
     "name": "stdout",
     "output_type": "stream",
     "text": [
      "\n",
      "Top 10 Customers by Total Spending:\n",
      "    customerkey  total_spending\n",
      "0      1702221        61871.70\n",
      "1      1884663        43517.80\n",
      "2      1969704        42788.04\n",
      "3       535496        41521.53\n",
      "4       551036        40556.54\n",
      "5       723572        40225.01\n",
      "6       262871        38813.88\n",
      "7      1928466        38191.06\n",
      "8      1503831        37319.88\n",
      "9      1373561        36817.28\n"
     ]
    }
   ],
   "source": [
    "top_customers_query = \"\"\"\n",
    "SELECT \n",
    "    m.customerkey,\n",
    "    SUM(m.Quantity * p.unitpriceusd) AS total_spending\n",
    "FROM \n",
    "    merged_data m\n",
    "JOIN \n",
    "    products p ON m.productkey = p.productkey\n",
    "GROUP BY \n",
    "    m.customerkey\n",
    "ORDER BY \n",
    "    total_spending DESC\n",
    "LIMIT 10;\n",
    "\"\"\"\n",
    "top_customers_df = execute_query(top_customers_query)\n",
    "print(\"\\nTop 10 Customers by Total Spending:\\n\", top_customers_df)"
   ]
  },
  {
   "cell_type": "code",
   "execution_count": 14,
   "metadata": {},
   "outputs": [
    {
     "name": "stderr",
     "output_type": "stream",
     "text": [
      "C:\\Users\\HP\\AppData\\Local\\Temp\\ipykernel_22700\\3056860126.py:17: UserWarning: pandas only supports SQLAlchemy connectable (engine/connection) or database string URI or sqlite3 DBAPI2 connection. Other DBAPI2 objects are not tested. Please consider using SQLAlchemy.\n",
      "  df = pd.read_sql(query, con)\n"
     ]
    },
    {
     "name": "stdout",
     "output_type": "stream",
     "text": [
      "\n",
      "Monthly Sales Performance:\n",
      "       month  total_sales\n",
      "0   2016-01    649918.78\n",
      "1   2016-02    891098.30\n",
      "2   2016-03    338407.36\n",
      "3   2016-04    110591.63\n",
      "4   2016-05    595986.18\n",
      "..      ...          ...\n",
      "57  2020-10    245647.59\n",
      "58  2020-11    256701.02\n",
      "59  2020-12    651526.44\n",
      "60  2021-01    513021.58\n",
      "61  2021-02    526266.90\n",
      "\n",
      "[62 rows x 2 columns]\n"
     ]
    }
   ],
   "source": [
    "monthly_sales_query = \"\"\"\n",
    "SELECT \n",
    "    DATE_FORMAT(OrderDate, '%Y-%m') AS month,\n",
    "    SUM(m.Quantity * p.unitpriceusd) AS total_sales\n",
    "FROM \n",
    "    merged_data m\n",
    "JOIN \n",
    "    products p ON m.productkey = p.productkey\n",
    "GROUP BY \n",
    "    month\n",
    "ORDER BY \n",
    "    month;\n",
    "\"\"\"\n",
    "monthly_sales_df = execute_query(monthly_sales_query)\n",
    "print(\"\\nMonthly Sales Performance:\\n\", monthly_sales_df)"
   ]
  },
  {
   "cell_type": "code",
   "execution_count": 15,
   "metadata": {},
   "outputs": [
    {
     "name": "stderr",
     "output_type": "stream",
     "text": [
      "C:\\Users\\HP\\AppData\\Local\\Temp\\ipykernel_22700\\3056860126.py:17: UserWarning: pandas only supports SQLAlchemy connectable (engine/connection) or database string URI or sqlite3 DBAPI2 connection. Other DBAPI2 objects are not tested. Please consider using SQLAlchemy.\n",
      "  df = pd.read_sql(query, con)\n"
     ]
    },
    {
     "name": "stdout",
     "output_type": "stream",
     "text": [
      "\n",
      "Sales Performance by Product Category:\n",
      "                         category  total_sales\n",
      "0                      Computers  19301595.46\n",
      "1                Home Appliances  10795478.59\n",
      "2         Cameras and camcorders   6520168.02\n",
      "3                    Cell phones   6183791.22\n",
      "4                   TV and Video   5928982.69\n",
      "5                          Audio   3169627.74\n",
      "6  Music, Movies and Audio Books   3131006.44\n",
      "7                 Games and Toys    724829.43\n"
     ]
    }
   ],
   "source": [
    "sales_by_category_query = \"\"\"\n",
    "SELECT \n",
    "    p.category,\n",
    "    SUM(m.Quantity * p.unitpriceusd) AS total_sales\n",
    "FROM \n",
    "    merged_data m\n",
    "JOIN \n",
    "    products p ON m.productkey = p.productkey\n",
    "GROUP BY \n",
    "    p.category\n",
    "ORDER BY \n",
    "    total_sales DESC;\n",
    "\"\"\"\n",
    "sales_by_category_df = execute_query(sales_by_category_query)\n",
    "print(\"\\nSales Performance by Product Category:\\n\", sales_by_category_df)"
   ]
  },
  {
   "cell_type": "code",
   "execution_count": 16,
   "metadata": {},
   "outputs": [
    {
     "name": "stderr",
     "output_type": "stream",
     "text": [
      "C:\\Users\\HP\\AppData\\Local\\Temp\\ipykernel_22700\\3056860126.py:17: UserWarning: pandas only supports SQLAlchemy connectable (engine/connection) or database string URI or sqlite3 DBAPI2 connection. Other DBAPI2 objects are not tested. Please consider using SQLAlchemy.\n",
      "  df = pd.read_sql(query, con)\n"
     ]
    },
    {
     "name": "stdout",
     "output_type": "stream",
     "text": [
      "\n",
      "Average Order Value:\n",
      "    average_order_value\n",
      "0          2117.886484\n"
     ]
    }
   ],
   "source": [
    "\n",
    "average_order_value_query = \"\"\"\n",
    "SELECT \n",
    "    AVG(total_order_value) AS average_order_value\n",
    "FROM (\n",
    "    SELECT \n",
    "        OrderNumber,\n",
    "        SUM(Quantity * p.unitpriceusd) AS total_order_value\n",
    "    FROM \n",
    "        merged_data m\n",
    "    JOIN \n",
    "        products p ON m.productkey = p.productkey\n",
    "    GROUP BY \n",
    "        OrderNumber\n",
    ") AS order_totals;\n",
    "\"\"\"\n",
    "average_order_value_df = execute_query(average_order_value_query)\n",
    "print(\"\\nAverage Order Value:\\n\", average_order_value_df)"
   ]
  },
  {
   "cell_type": "code",
   "execution_count": 17,
   "metadata": {},
   "outputs": [
    {
     "name": "stderr",
     "output_type": "stream",
     "text": [
      "C:\\Users\\HP\\AppData\\Local\\Temp\\ipykernel_22700\\3056860126.py:17: UserWarning: pandas only supports SQLAlchemy connectable (engine/connection) or database string URI or sqlite3 DBAPI2 connection. Other DBAPI2 objects are not tested. Please consider using SQLAlchemy.\n",
      "  df = pd.read_sql(query, con)\n"
     ]
    },
    {
     "name": "stdout",
     "output_type": "stream",
     "text": [
      "\n",
      "Customer Purchase Frequency:\n",
      "        customerkey  purchase_frequency\n",
      "0           723572                  14\n",
      "1          2080484                  12\n",
      "2          1349131                  11\n",
      "3           522806                  10\n",
      "4           574327                  10\n",
      "...            ...                 ...\n",
      "11882      1660175                   1\n",
      "11883      1660620                   1\n",
      "11884      1661010                   1\n",
      "11885      1661150                   1\n",
      "11886      1661166                   1\n",
      "\n",
      "[11887 rows x 2 columns]\n"
     ]
    }
   ],
   "source": [
    "purchase_frequency_query = \"\"\"\n",
    "SELECT \n",
    "    m.customerkey,\n",
    "    COUNT(DISTINCT m.OrderNumber) AS purchase_frequency\n",
    "FROM \n",
    "    merged_data m\n",
    "GROUP BY \n",
    "    m.customerkey\n",
    "ORDER BY \n",
    "    purchase_frequency DESC;\n",
    "\"\"\"\n",
    "purchase_frequency_df = execute_query(purchase_frequency_query)\n",
    "print(\"\\nCustomer Purchase Frequency:\\n\", purchase_frequency_df)"
   ]
  },
  {
   "cell_type": "code",
   "execution_count": 18,
   "metadata": {},
   "outputs": [
    {
     "name": "stderr",
     "output_type": "stream",
     "text": [
      "C:\\Users\\HP\\AppData\\Local\\Temp\\ipykernel_22700\\3056860126.py:17: UserWarning: pandas only supports SQLAlchemy connectable (engine/connection) or database string URI or sqlite3 DBAPI2 connection. Other DBAPI2 objects are not tested. Please consider using SQLAlchemy.\n",
      "  df = pd.read_sql(query, con)\n"
     ]
    },
    {
     "name": "stdout",
     "output_type": "stream",
     "text": [
      "\n",
      "Sales Trend Over Time:\n",
      "       order_date  total_sales\n",
      "0     2016-01-01     37442.42\n",
      "1     2016-01-02     91366.94\n",
      "2     2016-01-03       362.64\n",
      "3     2016-01-04      9524.94\n",
      "4     2016-01-05     22996.38\n",
      "...          ...          ...\n",
      "1636  2021-02-16     27700.99\n",
      "1637  2021-02-17     77408.70\n",
      "1638  2021-02-18     35307.64\n",
      "1639  2021-02-19     36476.44\n",
      "1640  2021-02-20     61697.45\n",
      "\n",
      "[1641 rows x 2 columns]\n"
     ]
    }
   ],
   "source": [
    "sales_trend_query = \"\"\"\n",
    "SELECT \n",
    "    DATE(OrderDate) AS order_date,\n",
    "    SUM(m.Quantity * p.unitpriceusd) AS total_sales\n",
    "FROM \n",
    "    merged_data m\n",
    "JOIN \n",
    "    products p ON m.productkey = p.productkey\n",
    "GROUP BY \n",
    "    order_date\n",
    "ORDER BY \n",
    "    order_date;\n",
    "\"\"\"\n",
    "sales_trend_df = execute_query(sales_trend_query)\n",
    "print(\"\\nSales Trend Over Time:\\n\", sales_trend_df)"
   ]
  },
  {
   "cell_type": "code",
   "execution_count": 19,
   "metadata": {},
   "outputs": [
    {
     "name": "stderr",
     "output_type": "stream",
     "text": [
      "C:\\Users\\HP\\AppData\\Local\\Temp\\ipykernel_22700\\3056860126.py:17: UserWarning: pandas only supports SQLAlchemy connectable (engine/connection) or database string URI or sqlite3 DBAPI2 connection. Other DBAPI2 objects are not tested. Please consider using SQLAlchemy.\n",
      "  df = pd.read_sql(query, con)\n"
     ]
    },
    {
     "name": "stdout",
     "output_type": "stream",
     "text": [
      "\n",
      "Sales by Region:\n",
      "        continent   total_sales\n",
      "0  North America  3.459597e+07\n",
      "1         Europe  1.845138e+07\n",
      "2      Australia  2.708138e+06\n"
     ]
    }
   ],
   "source": [
    "sales_by_region_query = \"\"\"\n",
    "SELECT \n",
    "    m.continent,\n",
    "    SUM(m.Quantity * p.unitpriceusd) AS total_sales\n",
    "FROM \n",
    "    merged_data m\n",
    "JOIN \n",
    "    products p ON m.productkey = p.productkey\n",
    "GROUP BY \n",
    "    m.continent\n",
    "ORDER BY \n",
    "    total_sales DESC;\n",
    "\"\"\"\n",
    "sales_by_region_df = execute_query(sales_by_region_query)\n",
    "print(\"\\nSales by Region:\\n\", sales_by_region_df)"
   ]
  },
  {
   "cell_type": "code",
   "execution_count": 20,
   "metadata": {},
   "outputs": [
    {
     "name": "stderr",
     "output_type": "stream",
     "text": [
      "C:\\Users\\HP\\AppData\\Local\\Temp\\ipykernel_22700\\3056860126.py:17: UserWarning: pandas only supports SQLAlchemy connectable (engine/connection) or database string URI or sqlite3 DBAPI2 connection. Other DBAPI2 objects are not tested. Please consider using SQLAlchemy.\n",
      "  df = pd.read_sql(query, con)\n"
     ]
    },
    {
     "name": "stdout",
     "output_type": "stream",
     "text": [
      "\n",
      "Top 10 Customers by Total Spending:\n",
      "    customerkey  total_spending\n",
      "0      1702221        61871.70\n",
      "1      1884663        43517.80\n",
      "2      1969704        42788.04\n",
      "3       535496        41521.53\n",
      "4       551036        40556.54\n",
      "5       723572        40225.01\n",
      "6       262871        38813.88\n",
      "7      1928466        38191.06\n",
      "8      1503831        37319.88\n",
      "9      1373561        36817.28\n"
     ]
    }
   ],
   "source": [
    "top_customers_query = \"\"\"\n",
    "SELECT \n",
    "    m.customerkey,\n",
    "    SUM(m.Quantity * p.unitpriceusd) AS total_spending\n",
    "FROM \n",
    "    merged_data m\n",
    "JOIN \n",
    "    products p ON m.productkey = p.productkey\n",
    "GROUP BY \n",
    "    m.customerkey\n",
    "ORDER BY \n",
    "    total_spending DESC\n",
    "LIMIT 10;\n",
    "\"\"\"\n",
    "top_customers_df = execute_query(top_customers_query)\n",
    "print(\"\\nTop 10 Customers by Total Spending:\\n\", top_customers_df)"
   ]
  }
 ],
 "metadata": {
  "kernelspec": {
   "display_name": "Python 3",
   "language": "python",
   "name": "python3"
  },
  "language_info": {
   "codemirror_mode": {
    "name": "ipython",
    "version": 3
   },
   "file_extension": ".py",
   "mimetype": "text/x-python",
   "name": "python",
   "nbconvert_exporter": "python",
   "pygments_lexer": "ipython3",
   "version": "3.12.2"
  }
 },
 "nbformat": 4,
 "nbformat_minor": 2
}
